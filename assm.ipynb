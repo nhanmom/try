{
 "cells": [
  {
   "attachments": {},
   "cell_type": "markdown",
   "metadata": {},
   "source": [
    "# Assignment 1- Data Science\n",
    "### ADY201M - AI17C - Group 4"
   ]
  },
  {
   "cell_type": "code",
   "execution_count": 1,
   "metadata": {},
   "outputs": [],
   "source": [
    "import pandas as pd"
   ]
  },
  {
   "attachments": {},
   "cell_type": "markdown",
   "metadata": {},
   "source": [
    "### Loading Data\n",
    "#### Load data from csv"
   ]
  },
  {
   "cell_type": "code",
   "execution_count": 2,
   "metadata": {},
   "outputs": [],
   "source": [
    "# Read the CSV file into a pandas DataFrame\n",
    "df1 = pd.read_csv('./Crimes_-_2001_to_Present.csv')\n",
    "df2 = pd.read_csv('./Chicago_Public_Schools_-_Progress_Report_Cards__2011-2012_.csv')\n",
    "df3 = pd.read_csv('./Census_Data_-_Selected_socioeconomic_indicators_in_Chicago__2008___2012.csv')\n",
    "columns1 = df1.columns.__len__()\n",
    "columns2 = df2.columns.__len__()\n",
    "columns3 = df3.columns.__len__()\n",
    "# print(columns1)\n",
    "# print(columns2)\n",
    "# print(columns3)"
   ]
  },
  {
   "attachments": {},
   "cell_type": "markdown",
   "metadata": {},
   "source": [
    "#### Problem 1: Find the total number of crimes recorded in the CRIME table."
   ]
  },
  {
   "cell_type": "code",
   "execution_count": 3,
   "metadata": {},
   "outputs": [
    {
     "data": {
      "text/plain": [
       "7806379"
      ]
     },
     "execution_count": 3,
     "metadata": {},
     "output_type": "execute_result"
    }
   ],
   "source": [
    "# Get rows : \n",
    "df1.shape[0]"
   ]
  },
  {
   "attachments": {},
   "cell_type": "markdown",
   "metadata": {},
   "source": [
    "#### Problem 2: List community areas with per capita income less than 11000."
   ]
  },
  {
   "cell_type": "code",
   "execution_count": 4,
   "metadata": {},
   "outputs": [
    {
     "name": "stdout",
     "output_type": "stream",
     "text": [
      "25    West Garfield Park\n",
      "29        South Lawndale\n",
      "36           Fuller Park\n",
      "53             Riverdale\n",
      "Name: COMMUNITY AREA NAME, dtype: object\n"
     ]
    }
   ],
   "source": [
    "# Filter the DataFrame to only include rows with per capita income less than 11000\n",
    "filtered_df = df3[df3['PER CAPITA INCOME'] < 11000]\n",
    "\n",
    "# Print the list of community areas with per capita income less than 11000\n",
    "community_areas = filtered_df['COMMUNITY AREA NAME']\n",
    "print(community_areas)"
   ]
  },
  {
   "attachments": {},
   "cell_type": "markdown",
   "metadata": {},
   "source": [
    "#### Problem 3: List all case numbers for crimes involving minors?"
   ]
  },
  {
   "cell_type": "code",
   "execution_count": 5,
   "metadata": {},
   "outputs": [
    {
     "name": "stdout",
     "output_type": "stream",
     "text": [
      "485        HY412341\n",
      "3975       HY418043\n",
      "5718       HY277510\n",
      "5757       HY421072\n",
      "6325       HY421668\n",
      "             ...   \n",
      "7805014    JF509716\n",
      "7805409    JF520516\n",
      "7805681    JF517977\n",
      "7805978    JF511385\n",
      "7806006    JF511083\n",
      "Name: Case Number, Length: 20708, dtype: object\n"
     ]
    }
   ],
   "source": [
    "\n",
    "minors_df = df1[df1['Description'].str.contains('MINOR')]\n",
    "\n",
    "# Display all case numbers for crimes involving minors\n",
    "print(minors_df['Case Number'])"
   ]
  },
  {
   "attachments": {},
   "cell_type": "markdown",
   "metadata": {},
   "source": [
    "#### Problem 4: List all kidnapping crimes involving a child?(children are not considered minors for the purposes of crime analysis)"
   ]
  },
  {
   "cell_type": "code",
   "execution_count": 8,
   "metadata": {},
   "outputs": [
    {
     "name": "stdout",
     "output_type": "stream",
     "text": [
      "               ID Case Number                    Date   \n",
      "3640     10230045    HY417409  09/09/2015 08:35:00 PM  \\\n",
      "4738     10231858    HY419410  09/11/2015 03:10:00 PM   \n",
      "8206     10236983    HY424737  09/15/2015 03:36:00 PM   \n",
      "8648     10237833    HY425451  09/16/2015 09:15:00 AM   \n",
      "14405    10247615    HY434871  09/23/2015 10:05:00 AM   \n",
      "...           ...         ...                     ...   \n",
      "7792945  12911060    JF496041  12/02/2022 05:00:00 PM   \n",
      "7794344  12913596    JF499549  12/05/2022 06:19:00 PM   \n",
      "7794352  12915464    JF501285  12/07/2022 09:45:00 AM   \n",
      "7794535  12915228    JF501161  12/06/2022 08:33:00 AM   \n",
      "7804602  12929986    JF519025  12/21/2022 03:30:00 PM   \n",
      "\n",
      "                            Block  IUCR Primary Type   \n",
      "3640           087XX S RACINE AVE  1792   KIDNAPPING  \\\n",
      "4738             036XX W 112TH PL  1792   KIDNAPPING   \n",
      "8206           048XX S KARLOV AVE  1792   KIDNAPPING   \n",
      "8648     094XX S STONY ISLAND AVE  1792   KIDNAPPING   \n",
      "14405             009XX E 71ST ST  1792   KIDNAPPING   \n",
      "...                           ...   ...          ...   \n",
      "7792945    062XX S DORCHESTER AVE  1792   KIDNAPPING   \n",
      "7794344          009XX E 133RD PL  1792   KIDNAPPING   \n",
      "7794352        113XX S NORMAL AVE  1792   KIDNAPPING   \n",
      "7794535           033XX W 59TH ST  1792   KIDNAPPING   \n",
      "7804602      007XX S LAWNDALE AVE  1792   KIDNAPPING   \n",
      "\n",
      "                        Description Location Description  Arrest  Domestic   \n",
      "3640       CHILD ABDUCTION/STRANGER    CONVENIENCE STORE   False     False  \\\n",
      "4738       CHILD ABDUCTION/STRANGER               STREET   False     False   \n",
      "8206       CHILD ABDUCTION/STRANGER             SIDEWALK    True     False   \n",
      "8648       CHILD ABDUCTION/STRANGER               STREET   False     False   \n",
      "14405      CHILD ABDUCTION/STRANGER               STREET   False     False   \n",
      "...                             ...                  ...     ...       ...   \n",
      "7792945  CHILD ABDUCTION / STRANGER            APARTMENT   False     False   \n",
      "7794344  CHILD ABDUCTION / STRANGER               STREET   False     False   \n",
      "7794352  CHILD ABDUCTION / STRANGER             SIDEWALK   False     False   \n",
      "7794535  CHILD ABDUCTION / STRANGER               STREET   False     False   \n",
      "7804602  CHILD ABDUCTION / STRANGER            APARTMENT   False     False   \n",
      "\n",
      "         ...  Ward  Community Area  FBI Code  X Coordinate Y Coordinate  Year   \n",
      "3640     ...  21.0            71.0        20     1169849.0    1846933.0  2015  \\\n",
      "4738     ...  19.0            74.0        20     1154297.0    1829734.0  2015   \n",
      "8206     ...  14.0            57.0        20     1149848.0    1872122.0  2015   \n",
      "8648     ...   8.0            48.0        20     1188498.0    1842468.0  2015   \n",
      "14405    ...   5.0            69.0        20     1183541.0    1858102.0  2015   \n",
      "...      ...   ...             ...       ...           ...          ...   ...   \n",
      "7792945  ...  20.0            42.0        26     1186609.0    1864000.0  2022   \n",
      "7794344  ...   9.0            54.0        26     1184674.0    1817270.0  2022   \n",
      "7794352  ...  34.0            49.0        26     1174989.0    1829802.0  2022   \n",
      "7794535  ...  23.0            63.0        26     1154972.0    1865298.0  2022   \n",
      "7804602  ...  24.0            27.0        26     1151825.0    1896670.0  2022   \n",
      "\n",
      "                     Updated On   Latitude  Longitude   \n",
      "3640     02/10/2018 03:50:01 PM  41.735479 -87.653325  \\\n",
      "4738     02/10/2018 03:50:01 PM  41.688605 -87.710757   \n",
      "8206     04/15/2016 03:49:27 PM  41.805012 -87.725950   \n",
      "8648     02/10/2018 03:50:01 PM  41.722802 -87.585145   \n",
      "14405    02/10/2018 03:50:01 PM  41.765820 -87.602816   \n",
      "...                         ...        ...        ...   \n",
      "7792945  01/03/2023 03:46:28 PM  41.781933 -87.591384   \n",
      "7794344  01/03/2023 03:46:28 PM  41.653746 -87.599938   \n",
      "7794352  01/03/2023 03:46:28 PM  41.688356 -87.635003   \n",
      "7794535  01/03/2023 03:46:28 PM  41.786185 -87.707339   \n",
      "7804602  01/03/2023 03:46:28 PM  41.872336 -87.718054   \n",
      "\n",
      "                              Location  \n",
      "3640     (41.735479162, -87.653324829)  \n",
      "4738     (41.688605012, -87.710757363)  \n",
      "8206     (41.805012203, -87.725949755)  \n",
      "8648     (41.722802088, -87.585145072)  \n",
      "14405     (41.765820253, -87.60281565)  \n",
      "...                                ...  \n",
      "7792945   (41.781932821, -87.59138404)  \n",
      "7794344  (41.653745791, -87.599937561)  \n",
      "7794352  (41.688356278, -87.635002933)  \n",
      "7794535  (41.786185274, -87.707339165)  \n",
      "7804602  (41.872336473, -87.718053942)  \n",
      "\n",
      "[2555 rows x 22 columns]\n"
     ]
    }
   ],
   "source": [
    "# Filter the DataFrame to include only kidnapping crimes involving a child\n",
    "kidnapping_child = df1[(df1['Primary Type'] == 'KIDNAPPING') & (df1['Description'].str.contains('CHILD', case=False))]\n",
    "\n",
    "# Display the results\n",
    "print(kidnapping_child)"
   ]
  },
  {
   "attachments": {},
   "cell_type": "markdown",
   "metadata": {},
   "source": [
    "#### Problem 5: What kind of crimes were recorded at schools?"
   ]
  },
  {
   "cell_type": "code",
   "execution_count": 12,
   "metadata": {},
   "outputs": [
    {
     "name": "stdout",
     "output_type": "stream",
     "text": [
      "['CRIMINAL DAMAGE' 'SEX OFFENSE' 'CRIMINAL TRESPASS' 'THEFT' 'NARCOTICS'\n",
      " 'BATTERY' 'ASSAULT' 'KIDNAPPING' 'OFFENSE INVOLVING CHILDREN'\n",
      " 'PUBLIC PEACE VIOLATION' 'BURGLARY' 'OTHER OFFENSE' 'STALKING'\n",
      " 'MOTOR VEHICLE THEFT' 'CRIM SEXUAL ASSAULT' 'WEAPONS VIOLATION' 'ROBBERY'\n",
      " 'DECEPTIVE PRACTICE' 'OBSCENITY' 'INTERFERENCE WITH PUBLIC OFFICER'\n",
      " 'INTIMIDATION' 'ARSON' 'LIQUOR LAW VIOLATION' 'OTHER NARCOTIC VIOLATION'\n",
      " 'PROSTITUTION' 'PUBLIC INDECENCY' 'GAMBLING'\n",
      " 'CONCEALED CARRY LICENSE VIOLATION' 'CRIMINAL SEXUAL ASSAULT' 'RITUALISM'\n",
      " 'HUMAN TRAFFICKING' 'HOMICIDE']\n"
     ]
    }
   ],
   "source": [
    "# Filter out rows with NaN values in Location Description\n",
    "df = df1.dropna(subset=['Location Description'])\n",
    "\n",
    "# Create a new DataFrame containing only the rows where Location Description contains \"SCHOOL\"\n",
    "crime_at_schools = df[df['Location Description'].str.contains('SCHOOL', case=False)]\n",
    "\n",
    "# Print the unique list of primary types of crimes committed at schools\n",
    "print(crime_at_schools['Primary Type'].unique())"
   ]
  },
  {
   "attachments": {},
   "cell_type": "markdown",
   "metadata": {},
   "source": [
    "#### Problem 6: List the average safety score for all types of schools."
   ]
  },
  {
   "cell_type": "code",
   "execution_count": 15,
   "metadata": {},
   "outputs": [
    {
     "name": "stdout",
     "output_type": "stream",
     "text": [
      "Elementary, Middle, or High School\n",
      "ES    49.520384\n",
      "HS    49.623529\n",
      "MS    48.000000\n",
      "Name: Safety Score, dtype: float64\n"
     ]
    }
   ],
   "source": [
    "#Calculate the average safety score for each type of school:\n",
    "average_safety_scores = df2.groupby('Elementary, Middle, or High School')['Safety Score'].mean()\n",
    "print(average_safety_scores)"
   ]
  },
  {
   "attachments": {},
   "cell_type": "markdown",
   "metadata": {},
   "source": [
    "#### Problem 7: List 5 community areas with highest % of households below poverty line."
   ]
  },
  {
   "cell_type": "code",
   "execution_count": 16,
   "metadata": {},
   "outputs": [
    {
     "name": "stdout",
     "output_type": "stream",
     "text": [
      "53             Riverdale\n",
      "36           Fuller Park\n",
      "67             Englewood\n",
      "28        North Lawndale\n",
      "26    East Garfield Park\n",
      "Name: COMMUNITY AREA NAME, dtype: object\n"
     ]
    }
   ],
   "source": [
    "# Sort the DataFrame by the 'PERCENT HOUSEHOLDS BELOW POVERTY' column in descending order\n",
    "sorted_df = df3.sort_values(by='PERCENT HOUSEHOLDS BELOW POVERTY', ascending=False)\n",
    "\n",
    "# Select the top 5 community areas with the highest percentage of households below the poverty line\n",
    "top_5_community_areas = sorted_df['COMMUNITY AREA NAME'].head()\n",
    "\n",
    "# Print the result\n",
    "print(top_5_community_areas)"
   ]
  },
  {
   "attachments": {},
   "cell_type": "markdown",
   "metadata": {},
   "source": [
    "#### Problem 8: Which community area(number) is most crime prone?"
   ]
  },
  {
   "cell_type": "code",
   "execution_count": 18,
   "metadata": {},
   "outputs": [
    {
     "name": "stdout",
     "output_type": "stream",
     "text": [
      "The most crime prone community area is: 25.0\n"
     ]
    }
   ],
   "source": [
    "# Group the DataFrame by 'Community Area' and count the number of rows in each group\n",
    "crime_count_by_area = df1.groupby('Community Area').size()\n",
    "\n",
    "# Find the community area with the most crimes\n",
    "most_crime_prone_area = crime_count_by_area.idxmax()\n",
    "\n",
    "# Print the result\n",
    "print(\"The most crime prone community area is:\", most_crime_prone_area)"
   ]
  },
  {
   "attachments": {},
   "cell_type": "markdown",
   "metadata": {},
   "source": [
    "#### Problem 9: Use a sub-query to find the name of the community area with highest hardship index."
   ]
  },
  {
   "cell_type": "code",
   "execution_count": 22,
   "metadata": {},
   "outputs": [
    {
     "name": "stdout",
     "output_type": "stream",
     "text": [
      "The community area with the highest hardship index is: Riverdale\n"
     ]
    }
   ],
   "source": [
    "# Create a sub-query to select the row with the highest hardship index value\n",
    "sub_query = df3.loc[df3['HARDSHIP INDEX'].idxmax()]\n",
    "\n",
    "# Get the name of the community area with the highest hardship index\n",
    "community_area_name = sub_query['COMMUNITY AREA NAME']\n",
    "\n",
    "# Print the result\n",
    "print(\"The community area with the highest hardship index is:\", community_area_name)"
   ]
  },
  {
   "attachments": {},
   "cell_type": "markdown",
   "metadata": {},
   "source": [
    "#### Problem 10: Use a sub-query to determine the Community Area Name with most number of crimes?"
   ]
  },
  {
   "cell_type": "code",
   "execution_count": 28,
   "metadata": {},
   "outputs": [
    {
     "name": "stdout",
     "output_type": "stream",
     "text": [
      "The Community Area with the most number of crimes is:  25.0\n"
     ]
    }
   ],
   "source": [
    "# Use a sub-query to group the data by Community Area and count the number of crimes\n",
    "crime_counts = df1.groupby(['Community Area']).size().reset_index(name='counts')\n",
    "\n",
    "# Get the name of the Community Area with the highest crime count\n",
    "max_crime_area = crime_counts.loc[crime_counts['counts'].idxmax()]\n",
    "\n",
    "# Print the result\n",
    "print(\"The Community Area with the most number of crimes is: \", max_crime_area['Community Area'])"
   ]
  }
 ],
 "metadata": {
  "kernelspec": {
   "display_name": "Python 3",
   "language": "python",
   "name": "python3"
  },
  "language_info": {
   "codemirror_mode": {
    "name": "ipython",
    "version": 3
   },
   "file_extension": ".py",
   "mimetype": "text/x-python",
   "name": "python",
   "nbconvert_exporter": "python",
   "pygments_lexer": "ipython3",
   "version": "3.10.6"
  },
  "orig_nbformat": 4
 },
 "nbformat": 4,
 "nbformat_minor": 2
}
